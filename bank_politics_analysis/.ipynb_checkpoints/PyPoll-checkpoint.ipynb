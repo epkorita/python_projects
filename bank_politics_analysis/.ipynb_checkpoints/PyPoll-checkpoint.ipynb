{
 "cells": [
  {
   "cell_type": "code",
   "execution_count": 1,
   "metadata": {},
   "outputs": [],
   "source": [
    "import os\n",
    "import csv\n",
    "file = './Resources/election_data.csv'"
   ]
  },
  {
   "cell_type": "code",
   "execution_count": 2,
   "metadata": {},
   "outputs": [],
   "source": [
    "with open (file, \"r\") as preader:\n",
    "    lines = []\n",
    "    data = csv.reader(preader, delimiter = \",\")\n",
    "    for line in data:\n",
    "        lines.append(line)\n",
    "    lines = lines[1:]"
   ]
  },
  {
   "cell_type": "code",
   "execution_count": 3,
   "metadata": {},
   "outputs": [],
   "source": [
    "total_votes = len(lines)"
   ]
  },
  {
   "cell_type": "code",
   "execution_count": 4,
   "metadata": {},
   "outputs": [
    {
     "data": {
      "text/plain": [
       "3521001"
      ]
     },
     "execution_count": 4,
     "metadata": {},
     "output_type": "execute_result"
    }
   ],
   "source": [
    "total_votes"
   ]
  },
  {
   "cell_type": "code",
   "execution_count": 5,
   "metadata": {},
   "outputs": [],
   "source": [
    "cand_list = []\n",
    "for idx in lines:\n",
    "# List of candidates \n",
    "     cand_list.append(idx[2])\n",
    "\n",
    "# Khan count and percentage \n",
    "khan_count = cand_list.count(\"Khan\")\n",
    "khan_percentage = (khan_count/len(lines))*100\n",
    "khan_form_per = format(khan_percentage,\".3f\") + \"%\"\n",
    "khan_final = \"Khan: {} ({})\".format(khan_form_per, khan_count)\n",
    "# Correy count and percentage \n",
    "correy_count = cand_list.count(\"Correy\")\n",
    "correy_percentage = (correy_count/len(lines))*100\n",
    "corr_form_per = format(correy_percentage,\".3f\") + \"%\"\n",
    "corr_final = \"Correy: {} ({})\".format(corr_form_per, correy_count)\n",
    "# Li count and percentage \n",
    "li_count = cand_list.count(\"Li\")\n",
    "li_percentage = (li_count/len(lines))*100\n",
    "li_form_per = format(li_percentage,\".3f\") + \"%\"\n",
    "li_final = \"Li: {} ({})\".format(li_form_per, li_count)\n",
    "# O'Tooley count and percentage \n",
    "otooley_count = cand_list.count(\"O'Tooley\")\n",
    "otooley_percentage = (otooley_count/len(lines))*100\n",
    "otool_form_per = format(otooley_percentage,\".3f\") + \"%\"\n",
    "otool_final = \"O'Tooley: {} ({})\".format(otool_form_per, otooley_count)"
   ]
  },
  {
   "cell_type": "code",
   "execution_count": 6,
   "metadata": {},
   "outputs": [],
   "source": [
    "winner_dict = {\"Khan\": int(khan_count),\"Correy\": int(correy_count),\"Li\": int(li_count),\"O'Tooley\": int(otooley_count)}"
   ]
  },
  {
   "cell_type": "code",
   "execution_count": 7,
   "metadata": {},
   "outputs": [],
   "source": [
    "winner_cand = max(winner_dict, key=winner_dict.get)"
   ]
  },
  {
   "cell_type": "code",
   "execution_count": 8,
   "metadata": {},
   "outputs": [],
   "source": [
    "output = (\n",
    "f\"Election Results \\n\"\n",
    "f'----------------- \\n'\n",
    "f\"Total Votes: {str(total_votes)} \\n\"\n",
    "f'----------------- \\n'\n",
    "f\"{khan_final} \\n\"\n",
    "f\"{li_final} \\n\"\n",
    "f\"{corr_final} \\n\"\n",
    "f\"{otool_final} \\n\"\n",
    "f'----------------- \\n'\n",
    "f\"Winner: {winner_cand} \\n\"\n",
    "f'----------------- \\n'\n",
    ")"
   ]
  },
  {
   "cell_type": "code",
   "execution_count": 9,
   "metadata": {},
   "outputs": [
    {
     "name": "stdout",
     "output_type": "stream",
     "text": [
      "Election Results \n",
      "----------------- \n",
      "Total Votes: 3521001 \n",
      "----------------- \n",
      "Khan: 63.000% (2218231) \n",
      "Li: 14.000% (492940) \n",
      "Correy: 20.000% (704200) \n",
      "O'Tooley: 3.000% (105630) \n",
      "----------------- \n",
      "Winner: Khan \n",
      "----------------- \n",
      "\n"
     ]
    }
   ],
   "source": [
    "print(output)"
   ]
  },
  {
   "cell_type": "code",
   "execution_count": 10,
   "metadata": {},
   "outputs": [],
   "source": [
    "# text_file = open(\"Output PyPoll.txt\", \"w\")\n",
    "# text_file.write(output)\n",
    "# text_file.close()"
   ]
  },
  {
   "cell_type": "code",
   "execution_count": null,
   "metadata": {},
   "outputs": [],
   "source": []
  }
 ],
 "metadata": {
  "kernelspec": {
   "display_name": "Python 3",
   "language": "python",
   "name": "python3"
  },
  "language_info": {
   "codemirror_mode": {
    "name": "ipython",
    "version": 3
   },
   "file_extension": ".py",
   "mimetype": "text/x-python",
   "name": "python",
   "nbconvert_exporter": "python",
   "pygments_lexer": "ipython3",
   "version": "3.6.5"
  }
 },
 "nbformat": 4,
 "nbformat_minor": 2
}
