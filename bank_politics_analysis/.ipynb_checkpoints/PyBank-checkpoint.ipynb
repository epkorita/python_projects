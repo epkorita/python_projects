{
 "cells": [
  {
   "cell_type": "code",
   "execution_count": 1,
   "metadata": {},
   "outputs": [],
   "source": [
    "import os\n",
    "import csv\n",
    "filepath = './Resources/budget_data.csv'\n",
    "\n",
    "# read the raw CSV\n",
    "with open(filepath,\"r\") as breader:\n",
    "    lines = []\n",
    "    data = csv.reader(breader, delimiter = \",\")\n",
    "    for line in data:\n",
    "        lines.append(line)\n",
    "\n",
    "# columns = ['Date', 'Profit/Losses']\n",
    "lines = lines[1:]"
   ]
  },
  {
   "cell_type": "code",
   "execution_count": 2,
   "metadata": {},
   "outputs": [
    {
     "data": {
      "text/plain": [
       "86"
      ]
     },
     "execution_count": 2,
     "metadata": {},
     "output_type": "execute_result"
    }
   ],
   "source": [
    "# num datapoints\n",
    "len(lines)"
   ]
  },
  {
   "cell_type": "code",
   "execution_count": 3,
   "metadata": {},
   "outputs": [],
   "source": [
    "# sum the dang thing\n",
    "sum_tot = sum([int(x[1]) for x in lines])"
   ]
  },
  {
   "cell_type": "code",
   "execution_count": 4,
   "metadata": {},
   "outputs": [],
   "source": [
    "delta_list = []\n",
    "mon_list = []\n",
    "for idx in range(len(lines) - 1):\n",
    "    # convert to int, grab relevant stuff\n",
    "    profit_past = int(lines[idx][1])\n",
    "    profit_curr = int(lines[idx + 1][1])\n",
    "    # grab month we care about\n",
    "    month_curr = lines[idx + 1][0]\n",
    "    # calc delta\n",
    "    delta = profit_curr - profit_past\n",
    "    # store stuff we care about\n",
    "    delta_list.append(delta)\n",
    "    mon_list.append(month_curr)\n",
    "\n",
    "# now, let's do math!\n",
    "tot_pr_los = sum(delta_list) / len(delta_list)\n",
    "tot_final = format(tot_pr_los,\".2f\")"
   ]
  },
  {
   "cell_type": "code",
   "execution_count": 5,
   "metadata": {},
   "outputs": [
    {
     "name": "stdout",
     "output_type": "stream",
     "text": [
      "Feb-12 == 1926159\n",
      "Sep-13 == -2196167\n"
     ]
    }
   ],
   "source": [
    "# whats the max value ?\n",
    "max_val = max(delta_list)\n",
    "# where does that sit in delta list ?\n",
    "max_mon_idx = delta_list.index(max_val)\n",
    "# whats the corresponding value in the parallel, mon_list ?\n",
    "max_mon = mon_list[max_mon_idx]\n",
    "print(\"{} == {}\".format(max_mon, max_val))\n",
    "\n",
    "# whats the max value ?\n",
    "min_val = min(delta_list)\n",
    "# where does that sit in delta list ?\n",
    "min_mon_idx = delta_list.index(min_val)\n",
    "# whats the corresponding value in the parallel, mon_list ?\n",
    "min_mon = mon_list[min_mon_idx]\n",
    "print(\"{} == {}\".format(min_mon, min_val))"
   ]
  },
  {
   "cell_type": "code",
   "execution_count": 6,
   "metadata": {},
   "outputs": [],
   "source": [
    "output = (\n",
    "f\"Financial Analysis\\n\"\n",
    "f'-----------------\\n'\n",
    "f\"Total: ${str(sum_tot)}\\n\"\n",
    "f\"Average Change: {str(tot_final)}\\n\"\n",
    "f\"Greatest Increase in Profits:  {max_mon} (${max_val})\\n\"\n",
    "f\"Greatest Decrease in Profits: {min_mon} (${min_val})\\n\"\n",
    ")"
   ]
  },
  {
   "cell_type": "code",
   "execution_count": 7,
   "metadata": {},
   "outputs": [
    {
     "name": "stdout",
     "output_type": "stream",
     "text": [
      "Financial Analysis\n",
      "-----------------\n",
      "Total: $38382578\n",
      "Average Change: -2315.12\n",
      "Greatest Increase in Profits:  Feb-12 ($1926159)\n",
      "Greatest Decrease in Profits: Sep-13 ($-2196167)\n",
      "\n"
     ]
    }
   ],
   "source": [
    "print(output)"
   ]
  },
  {
   "cell_type": "code",
   "execution_count": 8,
   "metadata": {},
   "outputs": [],
   "source": [
    "# text_file = open(\"Output PyBank.txt\", \"w\")\n",
    "# text_file.write(output)\n",
    "# text_file.close()"
   ]
  }
 ],
 "metadata": {
  "kernelspec": {
   "display_name": "Python 3",
   "language": "python",
   "name": "python3"
  },
  "language_info": {
   "codemirror_mode": {
    "name": "ipython",
    "version": 3
   },
   "file_extension": ".py",
   "mimetype": "text/x-python",
   "name": "python",
   "nbconvert_exporter": "python",
   "pygments_lexer": "ipython3",
   "version": "3.6.5"
  }
 },
 "nbformat": 4,
 "nbformat_minor": 2
}
